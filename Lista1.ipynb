{
 "cells": [
  {
   "cell_type": "markdown",
   "metadata": {},
   "source": [
    "# Lista 1 (9 pkt.)"
   ]
  },
  {
   "cell_type": "code",
   "execution_count": 374,
   "metadata": {},
   "outputs": [],
   "source": [
    "import string\n",
    "import matplotlib.pyplot as plt\n",
    "import numpy as np"
   ]
  },
  {
   "cell_type": "markdown",
   "metadata": {},
   "source": [
    "## Zadanie 1 (1 pkt.)"
   ]
  },
  {
   "cell_type": "markdown",
   "metadata": {},
   "source": [
    "Zaimplementuj szyfr Cezara. Napisz funkcję $\\textit{Cezar(tekst, klucz)}$ tak aby jako argumenty przyjmowała tekst do zaszysfrowania oraz klucz a zwracała zaszyfrowany tekst. Funkcja ta dostając jako argumenty zaszyfrowany tekst oraz -klucz (klucz, ktorym zaszyfrowano tekst ze znakiem minus) będzie zwracała odszyfrowany tekst. Funkcja powinna przejść testy, czyli powinna 8 razy zwrócić $\\textit{True}$.\n",
    "\n",
    "Pamiętaj o polskich znakach. Szyfrujemy tylko litery, natomiast cyfry, znaki interpunkcyjne i białe znaki zostają bez zmian. Wielkie litery po zaszyfrowaniu są również wielkie. Użyj poniższego alfabetu."
   ]
  },
  {
   "cell_type": "code",
   "execution_count": 375,
   "metadata": {},
   "outputs": [],
   "source": [
    "alfabet={'a':1,'ą':2, 'b':3, 'c':4, 'ć':5, 'd':6, 'e':7, 'ę':8, 'f':9, 'g':10, 'h':11, 'i':12, 'j':13, 'k':14, 'l':15, 'ł':16,\n",
    "             'm':17, 'n':18, 'ń':19, 'o':20,'ó':21, 'p':22, 'q':23,'r':24, 's':25, 'ś':26, 't':27, 'u':28,'v':29, 'w':30, 'x':31,'y':32, 'z':33,'ź':34,'ż':35}"
   ]
  },
  {
   "cell_type": "markdown",
   "metadata": {},
   "source": [
    "Przy implementacji mogą być przydatne takie elementy biblioteki string jak: $\\textit{string.punctuation, string.whitespace, string.digits, upper(), lower(), isupper()}$."
   ]
  },
  {
   "cell_type": "code",
   "execution_count": 376,
   "metadata": {},
   "outputs": [],
   "source": [
    "def Cezar(tekst,klucz):\n",
    "    zaszyfrowane = \"\"\n",
    "    \n",
    "    for i in tekst:\n",
    "        if (i.isalpha()):\n",
    "            if (alfabet[i.lower()] + klucz - 1) > 35:\n",
    "#                 print (\"{0}, {1}\".format(alfabet[i.lower()], list(alfabet.values())[(alfabet[i.lower()] + klucz - 1)%35 ]))\n",
    "#                 zaszyfrowane += str(alfabet[list(alfabet.keys())[(alfabet[i.lower()] + klucz - 1)%35 ]])\n",
    "                if (i.isupper()):\n",
    "                    zaszyfrowane += list(alfabet.keys())[(alfabet[i.lower()] + klucz - 1)%35].upper()\n",
    "                else:\n",
    "                    zaszyfrowane += list(alfabet.keys())[(alfabet[i.lower()] + klucz - 1)%35]\n",
    "            else:\n",
    "#                 print (\"{0}, {1} ||| {2}\".format(alfabet[i.lower()], list(alfabet.values())[alfabet[i.lower()] + klucz - 1], list(alfabet.keys())[alfabet[i.lower()] + klucz - 1]))\n",
    "                if (i.isupper()):            \n",
    "                    zaszyfrowane += list(alfabet.keys())[alfabet[i.lower()] + klucz - 1].upper()\n",
    "                else:\n",
    "                    zaszyfrowane += list(alfabet.keys())[alfabet[i.lower()] + klucz - 1]\n",
    "        \n",
    "        elif i.isspace():\n",
    "            zaszyfrowane += i\n",
    "            \n",
    "        elif i.isdigit():\n",
    "            zaszyfrowane += i\n",
    "        \n",
    "        else:\n",
    "            zaszyfrowane += i\n",
    "                \n",
    "#     print(zaszyfrowane)\n",
    "    return zaszyfrowane"
   ]
  },
  {
   "cell_type": "code",
   "execution_count": 377,
   "metadata": {},
   "outputs": [
    {
     "name": "stdout",
     "output_type": "stream",
     "text": [
      "True\n",
      "True\n",
      "True\n",
      "True\n",
      "True\n",
      "True\n",
      "True\n",
      "True\n"
     ]
    }
   ],
   "source": [
    "print(Cezar('Ala ma kota.',3)=='Cnc oc mqwc.')\n",
    "print(Cezar('Ala ma kota.',20)=='Óżó ąó źćió.')\n",
    "print(Cezar('Ala ma 2 koty.',5)=='Dod pd 2 ńsyą.')\n",
    "print(Cezar('Daremne żale, próżny trud,\\nBezsilne złorzeczenia!\\nPrzeżytych kształtów żaden cud\\nNie wróci do istnienia.',7)\n",
    "                  =='Jęxkrsk eępk, vxuesc źxżj,\\nGkćyńpsk ćqtxćkhćksńę!\\nVxćkecźchn óyćźęqźuą eęjks hżj\\nSńk ąxuhń jt ńyźsńksńę.')\n",
    "print(Cezar('Cnc oc mqwc.',-3)=='Ala ma kota.')\n",
    "print(Cezar('Óżó ąó źćió.',-20)=='Ala ma kota.')\n",
    "print(Cezar('Dod pd 2 ńsyą.',-5)=='Ala ma 2 koty.')\n",
    "print(Cezar('Jęxkrsk eępk, vxuesc źxżj,\\nGkćyńpsk ćqtxćkhćksńę!\\nVxćkecźchn óyćźęqźuą eęjks hżj\\nSńk ąxuhń jt ńyźsńksńę.',-7)\n",
    "                  =='Daremne żale, próżny trud,\\nBezsilne złorzeczenia!\\nPrzeżytych kształtów żaden cud\\nNie wróci do istnienia.')"
   ]
  },
  {
   "cell_type": "markdown",
   "metadata": {},
   "source": [
    "## Zadanie 2 (1 pkt.)"
   ]
  },
  {
   "cell_type": "markdown",
   "metadata": {},
   "source": [
    "Wiedząc, że poniższy tekst zaszyfrowano metodą Cezara, odszyfruj go metodą \"brute force\". Co to za cytat?"
   ]
  },
  {
   "cell_type": "code",
   "execution_count": 378,
   "metadata": {},
   "outputs": [],
   "source": [
    "tekst='Hćcrek okyź hćęy? Okzpń sńóź rsńk t źt sńk vcźę, ąńkr. Okzpń vcźęofhkrż żyńqżol ącźqżręhćci, sńk ąńkr.'"
   ]
  },
  {
   "cell_type": "code",
   "execution_count": 379,
   "metadata": {},
   "outputs": [
    {
     "name": "stdout",
     "output_type": "stream",
     "text": [
      "Gcbqdj ńjxz gcex? Ńjyón rnoz qrnj ś zś rnj ubze, anjq. Ńjyón ubzeńęgjqź źxnpźńk abzpźqegcbh, rnj anjq.\n",
      "Fbąpći niwy fbdw? Nixom qmńy pqmi s ys qmi tąyd, żmip. Nixom tąydnefipz zwmóznj żąyózpdfbąg, qmi żmip.\n",
      "Ęąaóch mhvx ęąćv? Mhwńł płnx ópłh r xr płh śaxć, źłhó. Mhwńł śaxćmdęhóy yvłoymi źaxoyóćęąaf, płh źłhó.\n",
      "Eażobg łguw eacu? Łgvnl ólmw oólg q wq ólg sżwc, zlgo. Łgvnl sżwcłćegox xulńxłh zżwńxoceażę, ólg zlgo.\n",
      "Dżźńąf lftv dżbt? Lfumk okłv ńokf p vp okf rźvb, ykfń. Lfumk rźvblcdfńw wtknwlg yźvnwńbdżźe, okf ykfń.\n",
      "Ćźznaę kęśu ćźąś? Kętłj ńjlu nńję ó uó ńję qzuą, xjęn. Kętłj qzuąkbćęnv vśjmvkf xzumvnąćźzd, ńję xjęn.\n",
      "Czymże jest czas? Jeśli nikt mnie o to nie pyta, wiem. Jeśli pytającemu usiłuję wytłumaczyć, nie wiem.\n",
      "Byxłźd idrś byżr? Idskh mhjś łmhd ń śń mhd óxśż, vhdł. Idskh óxśżiabdłt trhltie vxśltłżbyxc, mhd vhdł.\n",
      "Ąxwlzć hćqs ąxźq? Hćrjg łgis lłgć n sn łgć owsź, ugćl. Hćrjg owsźhżąćlś śqgkśhd uwskślźąxwb, łgć ugćl.\n",
      "Awvkyc gcpr awzp? Gcqif lfhr klfc m rm lfc ńvrz, tfck. Gcqif ńvrzgźacks spfjsgć tvrjskzawvą, lfc tfck.\n",
      "Żvujxb fbóq żvyó? Fbphę kęgq jkęb ł qł kęb nuqy, śębj. Fbphę nuqyfzżbjr róęirfc śuqirjyżvua, kęb śębj.\n",
      "Źutiwą ęąop źuxo? Ęąóge jefp ijeą l pl jeą mtpx, seąi. Ęąóge mtpxęyźąiq qoehqęb stphqixźutż, jeą seąi.\n",
      "Ztśhva eańó ztwń? Eaofd idęó hida k ók ida łśów, rdah. Eaofd łśówexzahp pńdgpeą rśógphwztśź, ida rdah.\n",
      "Yśsguż dżno yśvn? Dżńęć hćeo ghćż j oj hćż lsov, qćżg. Dżńęć lsovdwyżgó ónćfóda qsofógvyśsz, hćż qćżg.\n",
      "Xsrftź ćźmń xsum? Ćźnec gcdń fgcź i ńi gcź krńu, pcźf. Ćźnec krńućvxźfo omcęoćż prńęofuxsry, gcź pcźf.\n",
      "Wrqęśz człn wrtł? Czmdb fbćn ęfbz h nh fbz jqnt, óbzę. Czmdb jqntcuwzęń ńłbeńcź óqneńętwrqx, fbz óbzę.\n",
      "Vqpesy bylm vqśl? Byłćą ęącm eęąy g mg ęąy ipmś, oąye. Byłćą ipmśbtvyen nlądnbz opmdneśvqpw, ęąy oąye.\n",
      "Upódrx ąxkł upsk? Ąxlca eabł deax f łf eax hółs, ńaxd. Ąxlca hółsąśuxdm mkaćmąy ńółćmdsupóv, eax ńaxd.\n",
      "Tóoćqw awjl tórj? Awkbż dżąl ćdżw ę lę dżw golr, nżwć. Awkbż golrastwćł łjżcłax nolcłćrtóou, dżw nżwć.\n",
      "Śońcpv żvik śoqi? Żvjąź ćźak cćźv e ke ćźv fńkq, mźvc. Żvjąź fńkqżrśvcl liźblżw mńkblcqśońt, ćźv mźvc.\n",
      "Sńnbóu źuhj sńph? Źuiaz czżj bczu d jd czu ęnjp, łzub. Źuiaz ęnjpźqsubk khząkźv łnjąkbpsńnś, czu łzub.\n",
      "Rnmąot ztgi rnóg? Zthży byźi ąbyt ć ić byt emió, lytą. Zthży emiózprtąj jgyajzu lmiająórnms, byt lytą.\n",
      "Qmłańś yśfh qmof? Yśgźx ąxzh aąxś c hc ąxś dłho, kxśa. Yśgźx dłhoyóqśai ifxżiyt kłhżiaoqmłr, ąxś kxśa.\n",
      "Płlżns xsęg płńę? Xsfzw awyg żaws b gb aws ćlgń, jwsż. Xsfzw ćlgńxopsżh hęwźhxś jlgźhżńpłlq, aws jwsż.\n",
      "Ólkźmr wref ólne? Wręyv żvxf źżvr ą fą żvr ckfn, ivrź. Wręyv ckfnwńórźg gevzgws ikfzgźnólkp, żvr ivrź.\n",
      "Okjzłq vqdę okmd? Vqexu źuwę zźuq a ęa źuq bjęm, huqz. Vqexu bjęmvnoqzf fduyfvr hjęyfzmokjó, źuq huqz.\n",
      "Ńjiylp upće ńjłć? Updwt ztve yztp ż eż ztp ąieł, gtpy. Updwt ąiełumńpyę ęćtxęuq giexęyłńjio, ztp gtpy.\n",
      "Nihxkó tócd nilc? Tóćvś yśud xyśó ź dź yśó ahdl, fśóx. Tóćvś ahdltłnóxe ecśwetp fhdwexlnihń, yśó fśóx.\n",
      "Mhgwjo śobć mhkb? Śocus xstć wxso z ćz xso żgćk, ęsow. Śocus żgćkślmowd dbsvdśó ęgćvdwkmhgn, xso ęsow.\n",
      "Łgfviń sńąc łgją? Sńbtr wrśc vwrń y cy wrń źfcj, erńv. Sńbtr źfcjskłńvć ćąrućso efcućvjłgfm, wrń erńv.\n",
      "Lfęuhn rnab lfia? Rnąśq vqsb uvqn x bx vqn zębi, dqnu. Rnąśq zębirjlnuc caqtcrń dębtcuilfęł, vqn dqnu.\n",
      "Kęetgm qmżą kęhż? Qmasp uprą tupm w ąw upm yeąh, ćpmt. Qmasp yeąhqikmtb bżpśbqn ćeąśbthkęel, upm ćpmt.\n",
      "Jedśfł płźa jegź? Płżró tóqa śtół v av tół xdag, cółś. Płżró xdagphjłśą ąźósąpm cdasąśgjedk, tół cółś.\n",
      "Idćsęl ólzż idfz? Ólźqo śopż sśol u żu śol wćżf, bols. Ólźqo wćżfógilsa azoraół bćżrasfidćj, śol bols.\n",
      "Hćcrek okyź hćęy? Okzpń sńóź rsńk t źt sńk vcźę, ąńkr. Okzpń vcźęofhkrż żyńqżol ącźqżręhćci, sńk ąńkr.\n"
     ]
    }
   ],
   "source": [
    "for i in range (1,36):\n",
    "    print(Cezar(tekst, -i))"
   ]
  },
  {
   "cell_type": "markdown",
   "metadata": {},
   "source": [
    "# *\"Czymże jest czas? Jeśli nikt mnie o to nie pyta, wiem. Jeśli pytającemu usiłuję wytłumaczyć, nie wiem.\"*"
   ]
  },
  {
   "cell_type": "markdown",
   "metadata": {},
   "source": [
    "## Zadanie 3 (2 pkt.)"
   ]
  },
  {
   "cell_type": "markdown",
   "metadata": {},
   "source": [
    "Plik $\\textit{'ksiazka1.txt'}$ zawiera tekst pewnej książki zaszyfrowany metodą Cezara. Dokonaj analizy statystycznej liter i na tej podstawie znajdź klucz oraz odszyfruj tekst. Jaka to książka?\n",
    "\n",
    "Do wczytania pliku mozesz użyć poniższego kodu."
   ]
  },
  {
   "cell_type": "code",
   "execution_count": 380,
   "metadata": {},
   "outputs": [],
   "source": [
    "plik=open('ksiazka1.txt')\n",
    "ksiazka=plik.read()\n",
    "plik.close()"
   ]
  },
  {
   "cell_type": "markdown",
   "metadata": {},
   "source": [
    "Słownik $czestoliwosc$ zawiera czestotliwości występowania liter w języku polskim."
   ]
  },
  {
   "cell_type": "code",
   "execution_count": 381,
   "metadata": {},
   "outputs": [],
   "source": [
    "czestotliwosc={'a':0.0891,'ą':0.0099, 'b':0.0147, 'c':0.0396, 'ć':0.004, 'd':0.0325, 'e':0.0766, 'ę':0.0111,\n",
    "            'f':0.003, 'g':0.0142, 'h':0.0108, 'i':0.0821, 'j':0.0228, 'k':0.0351, 'l':0.021, 'ł':0.0182,'m':0.028,\n",
    "            'n':0.0552, 'ń':0.002, 'o':0.0775,'ó':0.0085, 'p':0.0313, 'q':0.0014, 'r':0.0469, 's':0.0432,'ś':0.0066,\n",
    "            't':0.0398, 'u':0.025, 'v': 0.0004, 'w':0.0465 ,'x':0.0002,'y':0.0376, 'z':0.0564,'ź':0.0006,'ż':0.0083}"
   ]
  },
  {
   "cell_type": "code",
   "execution_count": 382,
   "metadata": {},
   "outputs": [
    {
     "data": {
      "text/plain": [
       "<BarContainer object of 35 artists>"
      ]
     },
     "execution_count": 382,
     "metadata": {},
     "output_type": "execute_result"
    },
    {
     "data": {
      "image/png": "[encoded data removed]",
      "text/plain": [
       "<Figure size 432x288 with 1 Axes>"
      ]
     },
     "metadata": {
      "needs_background": "light"
     },
     "output_type": "display_data"
    }
   ],
   "source": [
    "plt.bar(czestotliwosc.keys(),czestotliwosc.values())"
   ]
  },
  {
   "cell_type": "markdown",
   "metadata": {},
   "source": [
    "Częstotliwość w książce:"
   ]
  },
  {
   "cell_type": "code",
   "execution_count": 383,
   "metadata": {},
   "outputs": [
    {
     "name": "stdout",
     "output_type": "stream",
     "text": [
      "0\n",
      "1040850\n",
      "[    0 40933 59628   774 11265 92346 13539 17853 40683  5690 35196 76056\n",
      " 17920  3292 15736 12306 94080 22710 31701 19690 29423 32978 52980  1952\n",
      " 73315 10382 30232     2 42061 45492  9162 36716 21142    38 43405   172]\n"
     ]
    },
    {
     "data": {
      "text/plain": [
       "<BarContainer object of 35 artists>"
      ]
     },
     "execution_count": 383,
     "metadata": {},
     "output_type": "execute_result"
    },
    {
     "data": {
      "image/png": "[encoded data removed]",
      "text/plain": [
       "<Figure size 432x288 with 1 Axes>"
      ]
     },
     "metadata": {
      "needs_background": "light"
     },
     "output_type": "display_data"
    }
   ],
   "source": [
    "letters = 0\n",
    "letters_frequency = np.zeros(36, dtype='int')\n",
    "\n",
    "print(letters)\n",
    "\n",
    "for i in ksiazka:\n",
    "    if i.isalpha():\n",
    "        letters += 1\n",
    "        letters_frequency[list(alfabet.values())[alfabet[i.lower()] - 1]] += 1    \n",
    "\n",
    "\n",
    "print(letters)\n",
    "print(letters_frequency)\n",
    "\n",
    "frequency = list()\n",
    "for x in range (1,36):\n",
    "    frequency.append(letters_frequency[x]/float(letters))\n",
    "    \n",
    "# print(frequency)\n",
    "\n",
    "plt.bar(alfabet.keys(), frequency)"
   ]
  },
  {
   "cell_type": "markdown",
   "metadata": {},
   "source": [
    "#### Do zaszyfrowania książki użyto szyfru Cezara z przesunięciem 4, a książka to \"Faraon\" Bolesława Prusa."
   ]
  },
  {
   "cell_type": "code",
   "execution_count": 384,
   "metadata": {},
   "outputs": [
    {
     "name": "stdout",
     "output_type": "stream",
     "text": [
      "Tom I\n",
      "\n",
      "\n",
      "\n",
      "Wstęp\n",
      "\n",
      "W północno-wschodnim kącie Afryki leży Egipt, ojczyzna najstarszej cywilizacji w świecie. Przed trzema, czterema, a nawet pięcioma tysiącami lat, kiedy w środkowej Europie odziani w surowe skóry barbarzyńcy kryli się po jaskiniach, Egipt - już posiadał wysoką organizację społeczną, rolnictwo, rzemiosła i literaturę. Nade wszystko zaś wykonywał olbrzymie prace inżynierskie i wznosił kolosalne budowle, których szczątki budzą podziw w technikach nowożytnych.\n",
      "\n",
      "Egipt - jest to żyzny wąwóz między pustynią Libijską i Arabską. Głębokość jego wynosi kilkaset metrów, długość sto trzydzieści mil, średnia szerokość zaledwo milę. Od zachodu - łagodne, ale nagie wzgórza libijskie, od wschodu strome i popękane skały arabskie są ścianami tego korytarza, którego dnem płynie rzeka - Nil.\n",
      "[...]\n"
     ]
    }
   ],
   "source": [
    "print(Cezar(ksiazka, -4)[0:796])\n",
    "print(\"[...]\")"
   ]
  },
  {
   "cell_type": "markdown",
   "metadata": {},
   "source": [
    "## Zadanie 4 (2 pkt.)"
   ]
  },
  {
   "cell_type": "markdown",
   "metadata": {},
   "source": [
    "Napisz dwie funkcje, szyfrującą i deszyfrującą, dla szyfru Vignere'a. Funkcja $\\textit{Vignere_zaszyfruj(tekst, klucz)}$ przyjmuje jako argumenty tekst do zaszyfrowania oraz klucz w postaci słowa. Podobnie funkcja $\\textit{Vignere_odszyfruj(tekst, klucz)}$ przyjmuje jako argumenty tekst zaszyfrowany oraz klucz w postaci słowa. Może być przydatne skorzystanie z zamiany liter na liczby (tzn. na liczby określające pozycję litery w alfabecie):"
   ]
  },
  {
   "cell_type": "code",
   "execution_count": 385,
   "metadata": {},
   "outputs": [],
   "source": [
    "liczb_do_lit=dict()\n",
    "lit_do_liczb=dict()\n",
    "for i,l in enumerate(alfabet):\n",
    "    liczb_do_lit[i]=l\n",
    "    lit_do_liczb[l]=i"
   ]
  },
  {
   "cell_type": "code",
   "execution_count": 386,
   "metadata": {},
   "outputs": [],
   "source": [
    "def Vignere_zaszyfruj(tekst,klucz):\n",
    "    zaszyfrowane = \"\"\n",
    "    offset = 0\n",
    "    for letter in tekst:\n",
    "#         print(\"{0}, {1}\".format(number, letter))\n",
    "#         print(liczb_do_lit[klucz[number]])\n",
    "        if (letter.isalpha()):\n",
    "            if letter.isupper():\n",
    "                zaszyfrowane += liczb_do_lit[ (lit_do_liczb[letter.lower()] + lit_do_liczb[klucz[offset%len(klucz)]])%35 ].upper()\n",
    "            else:\n",
    "                zaszyfrowane += liczb_do_lit[ (lit_do_liczb[letter.lower()] + lit_do_liczb[klucz[offset%len(klucz)]])%35 ]\n",
    "            offset += 1\n",
    "        \n",
    "        else:\n",
    "            zaszyfrowane += letter\n",
    "        \n",
    "#     print (zaszyfrowane)\n",
    "    return zaszyfrowane"
   ]
  },
  {
   "cell_type": "code",
   "execution_count": 387,
   "metadata": {},
   "outputs": [],
   "source": [
    "def Vignere_odszyfruj(tekst,klucz):\n",
    "    odszyfrowane = \"\"\n",
    "    offset = 0\n",
    "    \n",
    "    for letter in tekst:\n",
    "        if (letter.isalpha()):\n",
    "            if letter.isupper():\n",
    "                odszyfrowane += liczb_do_lit[ (lit_do_liczb[letter.lower()] - lit_do_liczb[klucz[offset%len(klucz)]])%35 ].upper()\n",
    "            else:\n",
    "                odszyfrowane += liczb_do_lit[ (lit_do_liczb[letter.lower()] - lit_do_liczb[klucz[offset%len(klucz)]])%35 ]\n",
    "            offset += 1\n",
    "        \n",
    "        else:\n",
    "            odszyfrowane += letter\n",
    "        \n",
    "#     print (odszyfrowane)\n",
    "    return odszyfrowane"
   ]
  },
  {
   "cell_type": "code",
   "execution_count": 388,
   "metadata": {},
   "outputs": [
    {
     "name": "stdout",
     "output_type": "stream",
     "text": [
      "True\n",
      "True\n",
      "True\n",
      "True\n",
      "True\n",
      "True\n",
      "True\n",
      "True\n"
     ]
    }
   ],
   "source": [
    "print(Vignere_zaszyfruj('Ala ma kota.','ela')=='Eva ql kśda.')\n",
    "print(Vignere_zaszyfruj('Ala ma kota.','tygrys')=='Thg ćy bhqg.')\n",
    "print(Vignere_zaszyfruj('Ala ma 2 koty.','indywidualistyczny')=='Iyd jw 2 ssńy.')\n",
    "print(Vignere_zaszyfruj('Daremne żale, próżny trud,\\nBezsilne złorzeczenia!\\nPrzeżytych kształtów żaden cud\\nNie wróci do istnienia.','asnyk')\n",
    "                  =='Dsdbwnx myue, hdmjnó fodd,\\nTrvbicżb hłfdvocprksa!\\nHdvożófumh bevćaćfmę żsqbx cmq\\nKse ńdmmi wą ębtevbxis.')\n",
    "print(Vignere_odszyfruj('Eva ql kśda.','ela')=='Ala ma kota.')\n",
    "print(Vignere_odszyfruj('Thg ćy bhqg.','tygrys')=='Ala ma kota.')\n",
    "print(Vignere_odszyfruj('Iyd jw 2 ssńy.','indywidualistyczny')=='Ala ma 2 koty.')\n",
    "print(Vignere_odszyfruj('Dsdbwnx myue, hdmjnó fodd,\\nTrvbicżb hłfdvocprksa!\\nHdvożófumh bevćaćfmę żsqbx cmq\\nKse ńdmmi wą ębtevbxis.','asnyk')\n",
    "                  =='Daremne żale, próżny trud,\\nBezsilne złorzeczenia!\\nPrzeżytych kształtów żaden cud\\nNie wróci do istnienia.')"
   ]
  },
  {
   "cell_type": "markdown",
   "metadata": {},
   "source": [
    "## Zadanie 5 (3 pkt.)"
   ]
  },
  {
   "cell_type": "markdown",
   "metadata": {},
   "source": [
    "Plik $\\textit{'ksiazka2.txt'}$ zawiera tekst pewnej książki zaszyfrowany metodą Vignere'a. Dokonaj analizy statystycznej liter i na tej podstawie znajdź klucz oraz odszyfruj tekst. Jaka to książka?\n",
    "\n",
    "Wskazówka I: Zauważ, że w metodzie Vignere'a co $n$-ta litera (gdzie $n$ to długośc klucza) jest zaszyfrowana metodą Cezara.\n",
    "\n",
    "Wskazówka II: Najpierw ustal długość klucza $n$.\n",
    "\n",
    "Do wczytania pliku mozesz użyć poniższego kodu."
   ]
  },
  {
   "cell_type": "code",
   "execution_count": 389,
   "metadata": {},
   "outputs": [],
   "source": [
    "plik=open('ksiazka2.txt')\n",
    "ksiazka=plik.read()\n",
    "plik.close()"
   ]
  },
  {
   "cell_type": "code",
   "execution_count": 390,
   "metadata": {},
   "outputs": [
    {
     "data": {
      "image/png": "[encoded data removed]",
      "text/plain": [
       "<Figure size 432x288 with 1 Axes>"
      ]
     },
     "metadata": {
      "needs_background": "light"
     },
     "output_type": "display_data"
    },
    {
     "data": {
      "image/png": "[encoded data removed]",
      "text/plain": [
       "<Figure size 432x288 with 1 Axes>"
      ]
     },
     "metadata": {
      "needs_background": "light"
     },
     "output_type": "display_data"
    },
    {
     "data": {
      "image/png": "[encoded data removed]",
      "text/plain": [
       "<Figure size 432x288 with 1 Axes>"
      ]
     },
     "metadata": {
      "needs_background": "light"
     },
     "output_type": "display_data"
    },
    {
     "data": {
      "image/png": "[encoded data removed]",
      "text/plain": [
       "<Figure size 432x288 with 1 Axes>"
      ]
     },
     "metadata": {
      "needs_background": "light"
     },
     "output_type": "display_data"
    },
    {
     "data": {
      "image/png": "[encoded data removed]",
      "text/plain": [
       "<Figure size 432x288 with 1 Axes>"
      ]
     },
     "metadata": {
      "needs_background": "light"
     },
     "output_type": "display_data"
    }
   ],
   "source": [
    "for n in range (2, 7):\n",
    "    freq = np.zeros(35, dtype='double')\n",
    "    \n",
    "    offset = 0\n",
    "    n_counter = 0\n",
    "    for i in ksiazka:\n",
    "        if i.isalpha():\n",
    "            i = i.lower()\n",
    "            if offset%n == 0:\n",
    "                freq[lit_do_liczb[i]] += 1\n",
    "                n_counter += 1\n",
    "            offset += 1\n",
    "\n",
    "    \n",
    "    for x,y in enumerate(freq):\n",
    "        freq[x] /= n_counter\n",
    "\n",
    "    plt.bar(alfabet.keys(), freq)\n",
    "    plt.title(\"n = {}\".format(n))\n",
    "    plt.show()"
   ]
  },
  {
   "cell_type": "markdown",
   "metadata": {},
   "source": [
    "#### Wykres dla n=4 najbardziej przypomina częstotliwośći liter w języku polskim."
   ]
  },
  {
   "cell_type": "code",
   "execution_count": 391,
   "metadata": {},
   "outputs": [
    {
     "data": {
      "image/png": "[encoded data removed]",
      "text/plain": [
       "<Figure size 432x288 with 1 Axes>"
      ]
     },
     "metadata": {
      "needs_background": "light"
     },
     "output_type": "display_data"
    },
    {
     "data": {
      "image/png": "[encoded data removed]",
      "text/plain": [
       "<Figure size 432x288 with 1 Axes>"
      ]
     },
     "metadata": {
      "needs_background": "light"
     },
     "output_type": "display_data"
    },
    {
     "data": {
      "image/png": "[encoded data removed]",
      "text/plain": [
       "<Figure size 432x288 with 1 Axes>"
      ]
     },
     "metadata": {
      "needs_background": "light"
     },
     "output_type": "display_data"
    },
    {
     "data": {
      "image/png": "[encoded data removed]",
      "text/plain": [
       "<Figure size 432x288 with 1 Axes>"
      ]
     },
     "metadata": {
      "needs_background": "light"
     },
     "output_type": "display_data"
    }
   ],
   "source": [
    "for n in range (0,4):\n",
    "    freq = np.zeros(35, dtype='double')\n",
    "    letters = 0\n",
    "    offset = 0\n",
    "    for x in ksiazka:\n",
    "        if x.isalpha():\n",
    "            if offset%4 == n:\n",
    "                freq[lit_do_liczb[x.lower()]] += 1\n",
    "                letters += 1\n",
    "            offset += 1\n",
    "            \n",
    "    \n",
    "    for x,y in enumerate(freq):\n",
    "        freq[x] /= n_counter\n",
    "                \n",
    "    plt.bar(alfabet.keys(), freq)\n",
    "    plt.title(\"offset = {}\".format(n))\n",
    "    plt.show()"
   ]
  },
  {
   "cell_type": "markdown",
   "metadata": {},
   "source": [
    "#### Aby otrzymać szyfr należy sprawdzić najwyższe słupki dla każdego offestu (przyjmując długość klucza = 4, najczęściej występującą literą powinna być ta która tworzy słowo klucza)\n",
    "##### offset = 0 -> g\n",
    "##### offset = 1 -> l\n",
    "##### offset = 2 -> o\n",
    "##### offset = 3 -> b"
   ]
  },
  {
   "cell_type": "code",
   "execution_count": 392,
   "metadata": {},
   "outputs": [
    {
     "name": "stdout",
     "output_type": "stream",
     "text": [
      "Rozdział I. Phileas Fogg, zachwycony Obieżyświatem, przyjmuje go do służby\n",
      "\n",
      "W roku 1872 dom pod numerem 7 przy Saville Row, Burlington Gardens, w którym w roku 1814 zmarł Sheridan, był zamieszkany przez Phileasa Fogga, członka londyńskiego klubu \"Reforma\", osobistość wybitną i wielce oryginalną.\n",
      "\n",
      "Będąc synem słynnego mówcy angielskiego, Phileas Fogg był istotą zagadkową, o której, prócz tego, że odznaczał się elegancją i urodą, nic więcej nie wiedziano. Mówiono, że jest podobny do Byrona, naturalnie tylko z budowy głowy. Był to Byron z wąsami i faworytami; Byron niepodlegający żadnym cierpieniom, który mógłby żyć sto lat, zupełnie się nie starzejąc.\n",
      "[...]\n"
     ]
    }
   ],
   "source": [
    "print(Vignere_odszyfruj(ksiazka, 'glob')[0:657])\n",
    "print(\"[...]\")"
   ]
  },
  {
   "cell_type": "markdown",
   "metadata": {},
   "source": [
    "#### Książka to \"W osiemdziesiąt dni dookoła świata\" Juliusza Verne"
   ]
  }
 ],
 "metadata": {
  "kernelspec": {
   "display_name": "Python 3",
   "language": "python",
   "name": "python3"
  },
  "language_info": {
   "codemirror_mode": {
    "name": "ipython",
    "version": 3
   },
   "file_extension": ".py",
   "mimetype": "text/x-python",
   "name": "python",
   "nbconvert_exporter": "python",
   "pygments_lexer": "ipython3",
   "version": "3.9.4"
  }
 },
 "nbformat": 4,
 "nbformat_minor": 4
}
